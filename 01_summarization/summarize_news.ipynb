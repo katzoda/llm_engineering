{
 "cells": [
  {
   "cell_type": "markdown",
   "id": "9a897f77",
   "metadata": {},
   "source": [
    "## Summarize the stock news\n",
    "\n",
    "I will use yfinance api to get news about a company.\n",
    "Via yfinance we can extract an URL from the news. Then we can scrape the website. Finally we will ask an LLM to summarize the content of that website.\n",
    "\n",
    "News is returned as a dictionary. The URL can be found under the keys 'content', 'canonicalUrl' and 'url'.\n",
    "So it's nested like this: news['content']['canonicalUrl']['url']\n",
    "\n",
    "At the beginning of the notebook you can see that I was testing the API, what data type it returns, how to extract the information etc.\n",
    "\n",
    "Then I have defined the acttual code to execute this project. As for the LLM, I use OpenAI gpt-4.1-mini."
   ]
  },
  {
   "cell_type": "code",
   "execution_count": 1,
   "id": "387e5237",
   "metadata": {},
   "outputs": [],
   "source": [
    "import yfinance as yf"
   ]
  },
  {
   "cell_type": "code",
   "execution_count": null,
   "id": "d0523a0f",
   "metadata": {},
   "outputs": [
    {
     "name": "stdout",
     "output_type": "stream",
     "text": [
      "yfinance.Ticker object <AAPL> Info: \n",
      " {'address1': 'One Apple Park Way', 'city': 'Cupertino', 'state': 'CA', 'zip': '95014', 'country': 'United States', 'phone': '(408) 996-1010', 'website': 'https://www.apple.com', 'industry': 'Consumer Electronics', 'industryKey': 'consumer-electronics', 'industryDisp': 'Consumer Electronics', 'sector': 'Technology', 'sectorKey': 'technology', 'sectorDisp': 'Technology', 'longBusinessSummary': 'Apple Inc. designs, manufactures, and markets smartphones, personal computers, tablets, wearables, and accessories worldwide. The company offers iPhone, a line of smartphones; Mac, a line of personal computers; iPad, a line of multi-purpose tablets; and wearables, home, and accessories comprising AirPods, Apple TV, Apple Watch, Beats products, and HomePod. It also provides AppleCare support and cloud services; and operates various platforms, including the App Store that allow customers to discover and download applications and digital content, such as books, music, video, games, and podcasts, as well as advertising services include third-party licensing arrangements and its own advertising platforms. In addition, the company offers various subscription-based services, such as Apple Arcade, a game subscription service; Apple Fitness+, a personalized fitness service; Apple Music, which offers users a curated listening experience with on-demand radio stations; Apple News+, a subscription news and magazine service; Apple TV+, which offers exclusive original content; Apple Card, a co-branded credit card; and Apple Pay, a cashless payment service, as well as licenses its intellectual property. The company serves consumers, and small and mid-sized businesses; and the education, enterprise, and government markets. It distributes third-party applications for its products through the App Store. The company also sells its products through its retail and online stores, and direct sales force; and third-party cellular network carriers, wholesalers, retailers, and resellers. Apple Inc. was founded in 1976 and is headquartered in Cupertino, California.', 'fullTimeEmployees': 150000, 'companyOfficers': [{'maxAge': 1, 'name': 'Mr. Timothy D. Cook', 'age': 63, 'title': 'CEO & Director', 'yearBorn': 1961, 'fiscalYear': 2024, 'totalPay': 16520856, 'exercisedValue': 0, 'unexercisedValue': 0}, {'maxAge': 1, 'name': 'Ms. Katherine L. Adams', 'age': 60, 'title': 'Senior VP & General Counsel', 'yearBorn': 1964, 'fiscalYear': 2024, 'totalPay': 5022182, 'exercisedValue': 0, 'unexercisedValue': 0}, {'maxAge': 1, 'name': \"Ms. Deirdre  O'Brien\", 'age': 57, 'title': 'Senior Vice President of Retail & People', 'yearBorn': 1967, 'fiscalYear': 2024, 'totalPay': 5022182, 'exercisedValue': 0, 'unexercisedValue': 0}, {'maxAge': 1, 'name': 'Mr. Jeffrey E. Williams', 'age': 60, 'title': 'Senior Vice President of Design, Watch, & Health', 'yearBorn': 1964, 'fiscalYear': 2024, 'totalPay': 5020737, 'exercisedValue': 0, 'unexercisedValue': 0}, {'maxAge': 1, 'name': 'Mr. Kevan  Parekh', 'age': 52, 'title': 'Senior VP & CFO', 'yearBorn': 1972, 'fiscalYear': 2024, 'exercisedValue': 0, 'unexercisedValue': 0}, {'maxAge': 1, 'name': 'Mr. Sabih  Khan', 'title': 'Chief Operating Officer', 'fiscalYear': 2024, 'exercisedValue': 0, 'unexercisedValue': 0}, {'maxAge': 1, 'name': 'Mr. Chris  Kondo', 'title': 'Senior Director of Corporate Accounting', 'fiscalYear': 2024, 'exercisedValue': 0, 'unexercisedValue': 0}, {'maxAge': 1, 'name': 'Suhasini  Chandramouli', 'title': 'Director of Investor Relations', 'fiscalYear': 2024, 'exercisedValue': 0, 'unexercisedValue': 0}, {'maxAge': 1, 'name': 'Ms. Kristin Huguet Quayle', 'title': 'Vice President of Worldwide Communications', 'fiscalYear': 2024, 'exercisedValue': 0, 'unexercisedValue': 0}, {'maxAge': 1, 'name': 'Mr. Greg  Joswiak', 'title': 'Senior Vice President of Worldwide Marketing', 'fiscalYear': 2024, 'exercisedValue': 0, 'unexercisedValue': 0}], 'auditRisk': 7, 'boardRisk': 1, 'compensationRisk': 3, 'shareHolderRightsRisk': 1, 'overallRisk': 1, 'governanceEpochDate': 1759276800, 'compensationAsOfEpochDate': 1735603200, 'irWebsite': 'http://investor.apple.com/', 'executiveTeam': [], 'maxAge': 86400, 'priceHint': 2, 'previousClose': 247.45, 'open': 248.02, 'dayLow': 247.27, 'dayHigh': 253.38, 'regularMarketPreviousClose': 247.45, 'regularMarketOpen': 248.02, 'regularMarketDayLow': 247.27, 'regularMarketDayHigh': 253.38, 'dividendRate': 1.04, 'dividendYield': 0.41, 'exDividendDate': 1754870400, 'payoutRatio': 0.1533, 'fiveYearAvgDividendYield': 0.54, 'beta': 1.094, 'trailingPE': 38.341946, 'forwardPE': 30.359806, 'volume': 48839918, 'regularMarketVolume': 48839918, 'averageVolume': 54379123, 'averageVolume10days': 40960590, 'averageDailyVolume10Day': 40960590, 'bid': 252.16, 'ask': 252.39, 'bidSize': 7, 'askSize': 3, 'marketCap': 3744081903616, 'fiftyTwoWeekLow': 169.21, 'fiftyTwoWeekHigh': 260.1, 'allTimeHigh': 260.1, 'allTimeLow': 0.049107, 'priceToSalesTrailing12Months': 9.162636, 'fiftyDayAverage': 241.0704, 'twoHundredDayAverage': 222.076, 'trailingAnnualDividendRate': 1.01, 'trailingAnnualDividendYield': 0.0040816325, 'currency': 'USD', 'tradeable': False, 'enterpriseValue': 3790407991296, 'profitMargins': 0.24295999, 'floatShares': 14814270914, 'sharesOutstanding': 14840390000, 'sharesShort': 110777598, 'sharesShortPriorMonth': 113582365, 'sharesShortPreviousMonthDate': 1756425600, 'dateShortInterest': 1759190400, 'sharesPercentSharesOut': 0.0075, 'heldPercentInsiders': 0.0197, 'heldPercentInstitutions': 0.63611, 'shortRatio': 1.84, 'shortPercentOfFloat': 0.0075, 'impliedSharesOutstanding': 14852540974, 'bookValue': 4.431, 'priceToBook': 56.93748, 'lastFiscalYearEnd': 1727481600, 'nextFiscalYearEnd': 1759017600, 'mostRecentQuarter': 1751068800, 'earningsQuarterlyGrowth': 0.093, 'netIncomeToCommon': 99280003072, 'trailingEps': 6.58, 'forwardEps': 8.31, 'lastSplitFactor': '4:1', 'lastSplitDate': 1598832000, 'enterpriseToRevenue': 9.276, 'enterpriseToEbitda': 26.75, '52WeekChange': 0.06685555, 'SandP52WeekChange': 0.13837254, 'lastDividendValue': 0.26, 'lastDividendDate': 1754870400, 'quoteType': 'EQUITY', 'currentPrice': 252.29, 'targetHighPrice': 310.0, 'targetLowPrice': 175.0, 'targetMeanPrice': 248.1203, 'targetMedianPrice': 245.0, 'recommendationMean': 2.08333, 'recommendationKey': 'buy', 'numberOfAnalystOpinions': 41, 'totalCash': 55372001280, 'totalCashPerShare': 3.731, 'ebitda': 141696008192, 'totalDebt': 101698002944, 'quickRatio': 0.724, 'currentRatio': 0.868, 'totalRevenue': 408624988160, 'debtToEquity': 154.486, 'revenuePerShare': 27.173, 'returnOnAssets': 0.24545999, 'returnOnEquity': 1.49814, 'grossProfits': 190739005440, 'freeCashflow': 94873747456, 'operatingCashflow': 108564996096, 'earningsGrowth': 0.121, 'revenueGrowth': 0.096, 'grossMargins': 0.46678, 'ebitdaMargins': 0.34675997, 'operatingMargins': 0.29990998, 'financialCurrency': 'USD', 'symbol': 'AAPL', 'language': 'en-US', 'region': 'US', 'typeDisp': 'Equity', 'quoteSourceName': 'Nasdaq Real Time Price', 'triggerable': True, 'customPriceAlertConfidence': 'HIGH', 'shortName': 'Apple Inc.', 'longName': 'Apple Inc.', 'corporateActions': [], 'postMarketTime': 1760745595, 'regularMarketTime': 1760731201, 'exchange': 'NMS', 'messageBoardId': 'finmb_24937', 'exchangeTimezoneName': 'America/New_York', 'exchangeTimezoneShortName': 'EDT', 'gmtOffSetMilliseconds': -14400000, 'market': 'us_market', 'esgPopulated': False, 'regularMarketChangePercent': 1.95595, 'regularMarketPrice': 252.29, 'fullExchangeName': 'NasdaqGS', 'averageDailyVolume3Month': 54379123, 'fiftyTwoWeekLowChange': 83.07999, 'fiftyTwoWeekLowChangePercent': 0.49098742, 'fiftyTwoWeekRange': '169.21 - 260.1', 'fiftyTwoWeekHighChange': -7.810013, 'fiftyTwoWeekHighChangePercent': -0.030026961, 'fiftyTwoWeekChangePercent': 6.685555, 'dividendDate': 1755129600, 'marketState': 'CLOSED', 'hasPrePostMarketData': True, 'firstTradeDateMilliseconds': 345479400000, 'postMarketChangePercent': 0.0832402, 'postMarketPrice': 252.5, 'postMarketChange': 0.210007, 'regularMarketChange': 4.84, 'regularMarketDayRange': '247.27 - 253.38', 'earningsTimestamp': 1761854400, 'earningsTimestampStart': 1761854400, 'earningsTimestampEnd': 1761854400, 'earningsCallTimestampStart': 1761858000, 'earningsCallTimestampEnd': 1761858000, 'isEarningsDateEstimate': False, 'epsTrailingTwelveMonths': 6.58, 'epsForward': 8.31, 'epsCurrentYear': 7.4108, 'priceEpsCurrentYear': 34.043556, 'fiftyDayAverageChange': 11.219589, 'fiftyDayAverageChangePercent': 0.046540715, 'twoHundredDayAverageChange': 30.21399, 'twoHundredDayAverageChangePercent': 0.13605247, 'sourceInterval': 15, 'exchangeDataDelayedBy': 0, 'averageAnalystRating': '2.1 - Buy', 'cryptoTradeable': False, 'displayName': 'Apple', 'trailingPegRatio': 2.4662}\n"
     ]
    }
   ],
   "source": [
    "\n",
    "tickers = [\"AAPL\"]\n",
    "info_list = []\n",
    "for ticker in tickers:\n",
    "    ticker = yf.Ticker(ticker)\n",
    "    # Get general info about the company\n",
    "    info_list.append(ticker.info)\n",
    "    print(f\"{ticker} Info: \\n {info_list[0]}\")"
   ]
  },
  {
   "cell_type": "code",
   "execution_count": null,
   "id": "e00fa22f",
   "metadata": {},
   "outputs": [
    {
     "name": "stdout",
     "output_type": "stream",
     "text": [
      "\n",
      "Recent News:\n",
      "{'id': '25dbcf43-934f-3c7c-afa0-55594211df4b', 'content': {'id': '25dbcf43-934f-3c7c-afa0-55594211df4b', 'contentType': 'VIDEO', 'title': 'Micron to cease chip sales to China, bitcoin sinks to 4-month low', 'description': '<p>Market Catalysts host <a data-i13n=\"cpos:1;pos:1\" href=\"https://www.yahoo.com/author/alexandra-canal/?.tsrc=fin-srch\">Allie Canal</a> tracks several of the day\\'s top trending stock tickers, including Micron Technology\\'s (<a data-i13n=\"cpos:2;pos:1\" href=\"https://finance.yahoo.com/quote/MU\">MU</a>) move to stop supplying chips to data centers in China, bitcoin (<a data-i13n=\"cpos:3;pos:1\" href=\"https://finance.yahoo.com/quote/BTC-USD\">BTC-USD</a>) plunging this week to a four-month low, and Apple (<a data-i13n=\"cpos:4;pos:1\" href=\"https://finance.yahoo.com/quote/AAPL\">AAPL</a>) signing a deal to be the official broadcaster of Formula One (<a data-i13n=\"cpos:5;pos:1\" href=\"https://finance.yahoo.com/quote/FWONK\">FWONK</a>, <a data-i13n=\"cpos:6;pos:1\" href=\"https://finance.yahoo.com/quote/FWONA\">FWONA</a>).</p>\\n<p>To watch more expert insights and analysis on the latest market action, check out more\\xa0<a data-i13n=\"cpos:7;pos:1\" href=\"https://finance.yahoo.com/videos/series/market-catalysts/\">Market Catalysts</a>.</p>', 'summary': \"Market Catalysts host Allie Canal tracks several of the day's top trending stock tickers, including Micron Technology's (MU) move to stop supplying chips to data centers in China, bitcoin (BTC-USD) plunging this week to a four-month low, and Apple (AAPL) signing a deal to be the official broadcaster of Formula One (FWONK, FWONA). To watch more expert insights and analysis on the latest market action, check out more&nbsp;Market Catalysts.\", 'pubDate': '2025-10-17T14:45:27Z', 'displayTime': '', 'isHosted': True, 'bypassModal': False, 'previewUrl': None, 'thumbnail': {'originalUrl': 'https://s.yimg.com/os/creatr-uploaded-images/2025-10/d5fc7a80-ab67-11f0-b1f7-2a8623bfd864', 'originalWidth': 3000, 'originalHeight': 1689, 'caption': '', 'resolutions': [{'url': 'https://s.yimg.com/uu/api/res/1.2/Mvbg91.nRrQxSI6mtObi3w--~B/aD0xNjg5O3c9MzAwMDthcHBpZD15dGFjaHlvbg--/https://s.yimg.com/os/creatr-uploaded-images/2025-10/d5fc7a80-ab67-11f0-b1f7-2a8623bfd864', 'width': 3000, 'height': 1689, 'tag': 'original'}, {'url': 'https://s.yimg.com/uu/api/res/1.2/r4rviNDSJC6EbQd078Epnw--~B/Zmk9c3RyaW07aD0xMjg7dz0xNzA7YXBwaWQ9eXRhY2h5b24-/https://s.yimg.com/os/creatr-uploaded-images/2025-10/d5fc7a80-ab67-11f0-b1f7-2a8623bfd864', 'width': 170, 'height': 128, 'tag': '170x128'}]}, 'provider': {'displayName': 'Yahoo Finance Video', 'url': 'https://finance.yahoo.com/'}, 'canonicalUrl': {'url': 'https://finance.yahoo.com/video/micron-cease-chip-sales-china-144527158.html', 'site': 'finance', 'region': 'US', 'lang': 'en-US'}, 'clickThroughUrl': {'url': 'https://finance.yahoo.com/video/micron-cease-chip-sales-china-144527158.html', 'site': 'finance', 'region': 'US', 'lang': 'en-US'}, 'metadata': {'editorsPick': True}, 'finance': {'premiumFinance': {'isPremiumNews': False, 'isPremiumFreeNews': False}}, 'storyline': None}}\n",
      "{'id': '25dbcf43-934f-3c7c-afa0-55594211df4b', 'contentType': 'VIDEO', 'title': 'Micron to cease chip sales to China, bitcoin sinks to 4-month low', 'description': '<p>Market Catalysts host <a data-i13n=\"cpos:1;pos:1\" href=\"https://www.yahoo.com/author/alexandra-canal/?.tsrc=fin-srch\">Allie Canal</a> tracks several of the day\\'s top trending stock tickers, including Micron Technology\\'s (<a data-i13n=\"cpos:2;pos:1\" href=\"https://finance.yahoo.com/quote/MU\">MU</a>) move to stop supplying chips to data centers in China, bitcoin (<a data-i13n=\"cpos:3;pos:1\" href=\"https://finance.yahoo.com/quote/BTC-USD\">BTC-USD</a>) plunging this week to a four-month low, and Apple (<a data-i13n=\"cpos:4;pos:1\" href=\"https://finance.yahoo.com/quote/AAPL\">AAPL</a>) signing a deal to be the official broadcaster of Formula One (<a data-i13n=\"cpos:5;pos:1\" href=\"https://finance.yahoo.com/quote/FWONK\">FWONK</a>, <a data-i13n=\"cpos:6;pos:1\" href=\"https://finance.yahoo.com/quote/FWONA\">FWONA</a>).</p>\\n<p>To watch more expert insights and analysis on the latest market action, check out more\\xa0<a data-i13n=\"cpos:7;pos:1\" href=\"https://finance.yahoo.com/videos/series/market-catalysts/\">Market Catalysts</a>.</p>', 'summary': \"Market Catalysts host Allie Canal tracks several of the day's top trending stock tickers, including Micron Technology's (MU) move to stop supplying chips to data centers in China, bitcoin (BTC-USD) plunging this week to a four-month low, and Apple (AAPL) signing a deal to be the official broadcaster of Formula One (FWONK, FWONA). To watch more expert insights and analysis on the latest market action, check out more&nbsp;Market Catalysts.\", 'pubDate': '2025-10-17T14:45:27Z', 'displayTime': '', 'isHosted': True, 'bypassModal': False, 'previewUrl': None, 'thumbnail': {'originalUrl': 'https://s.yimg.com/os/creatr-uploaded-images/2025-10/d5fc7a80-ab67-11f0-b1f7-2a8623bfd864', 'originalWidth': 3000, 'originalHeight': 1689, 'caption': '', 'resolutions': [{'url': 'https://s.yimg.com/uu/api/res/1.2/Mvbg91.nRrQxSI6mtObi3w--~B/aD0xNjg5O3c9MzAwMDthcHBpZD15dGFjaHlvbg--/https://s.yimg.com/os/creatr-uploaded-images/2025-10/d5fc7a80-ab67-11f0-b1f7-2a8623bfd864', 'width': 3000, 'height': 1689, 'tag': 'original'}, {'url': 'https://s.yimg.com/uu/api/res/1.2/r4rviNDSJC6EbQd078Epnw--~B/Zmk9c3RyaW07aD0xMjg7dz0xNzA7YXBwaWQ9eXRhY2h5b24-/https://s.yimg.com/os/creatr-uploaded-images/2025-10/d5fc7a80-ab67-11f0-b1f7-2a8623bfd864', 'width': 170, 'height': 128, 'tag': '170x128'}]}, 'provider': {'displayName': 'Yahoo Finance Video', 'url': 'https://finance.yahoo.com/'}, 'canonicalUrl': {'url': 'https://finance.yahoo.com/video/micron-cease-chip-sales-china-144527158.html', 'site': 'finance', 'region': 'US', 'lang': 'en-US'}, 'clickThroughUrl': {'url': 'https://finance.yahoo.com/video/micron-cease-chip-sales-china-144527158.html', 'site': 'finance', 'region': 'US', 'lang': 'en-US'}, 'metadata': {'editorsPick': True}, 'finance': {'premiumFinance': {'isPremiumNews': False, 'isPremiumFreeNews': False}}, 'storyline': None}\n",
      "Micron to cease chip sales to China, bitcoin sinks to 4-month low\n"
     ]
    }
   ],
   "source": [
    "news = ticker.news\n",
    "print(\"\\nRecent News:\")\n",
    "for n in news[:1]:\n",
    "    print(n)\n",
    "    print(n['content'])\n",
    "    print(n['content']['title'])\n",
    "    n_content = n['content']\n",
    "    for key,value in n_content.items():\n",
    "        print(f\"key:\"{key})\n",
    "        print(f\"value: \\n{value}\")\n"
   ]
  },
  {
   "cell_type": "code",
   "execution_count": null,
   "id": "d936b8f1",
   "metadata": {},
   "outputs": [
    {
     "name": "stdout",
     "output_type": "stream",
     "text": [
      "\n",
      "Recent News:\n",
      "{'id': 'aa6d4ee1-1bb9-3678-93a2-ff1d2e359744', 'content': {'id': 'aa6d4ee1-1bb9-3678-93a2-ff1d2e359744', 'contentType': 'STORY', 'title': 'Apple announces five-year partnership as U.S. broadcast partner for Formula 1', 'description': '', 'summary': 'Apple (AAPL) and Formula 1 announced a five-year partnership that will bring all F1 races exclusively to Apple TV in the United States beginning next year. “The partnership builds on Apple’s deepening relationship with Formula 1 following the global success of Apple Original Films’ adrenaline-fueled blockbuster F1 The Movie, the highest-grossing sports movie of all time. United by a commitment to innovation and fan experience, the partnership sets the stage for Formula 1’s continued growth in th', 'pubDate': '2025-10-18T13:05:12Z', 'displayTime': '2025-10-18T13:05:12Z', 'isHosted': True, 'bypassModal': False, 'previewUrl': None, 'thumbnail': {'originalUrl': 'https://media.zenfs.com/en/tipranks_452/f5079a739fb47b983bae87f28f5b97f1', 'originalWidth': 192, 'originalHeight': 192, 'caption': 'https://www.tipranks.com/news/the-fly/apple-announces-five-year-partnership-as-u-s-broadcast-partner-for-formula-1-thefly', 'resolutions': [{'url': 'https://s.yimg.com/uu/api/res/1.2/x4ZeBHA__NPbEft9Xm1vFQ--~B/aD0xOTI7dz0xOTI7YXBwaWQ9eXRhY2h5b24-/https://media.zenfs.com/en/tipranks_452/f5079a739fb47b983bae87f28f5b97f1', 'width': 192, 'height': 192, 'tag': 'original'}, {'url': 'https://s.yimg.com/uu/api/res/1.2/WjB8sHZAUhM8BQrTMN5piw--~B/Zmk9c3RyaW07aD0xMjg7dz0xNzA7YXBwaWQ9eXRhY2h5b24-/https://media.zenfs.com/en/tipranks_452/f5079a739fb47b983bae87f28f5b97f1', 'width': 170, 'height': 128, 'tag': '170x128'}]}, 'provider': {'displayName': 'TipRanks', 'url': 'https://www.tipranks.com/'}, 'canonicalUrl': {'url': 'https://sports.yahoo.com/article/apple-announces-five-partnership-u-130512518.html', 'site': 'sports', 'region': 'US', 'lang': 'en-US'}, 'clickThroughUrl': {'url': 'https://sports.yahoo.com/article/apple-announces-five-partnership-u-130512518.html', 'site': 'finance', 'region': 'US', 'lang': 'en-US'}, 'metadata': {'editorsPick': False}, 'finance': {'premiumFinance': {'isPremiumNews': False, 'isPremiumFreeNews': False}}, 'storyline': None}}\n",
      "{'id': 'aa6d4ee1-1bb9-3678-93a2-ff1d2e359744', 'contentType': 'STORY', 'title': 'Apple announces five-year partnership as U.S. broadcast partner for Formula 1', 'description': '', 'summary': 'Apple (AAPL) and Formula 1 announced a five-year partnership that will bring all F1 races exclusively to Apple TV in the United States beginning next year. “The partnership builds on Apple’s deepening relationship with Formula 1 following the global success of Apple Original Films’ adrenaline-fueled blockbuster F1 The Movie, the highest-grossing sports movie of all time. United by a commitment to innovation and fan experience, the partnership sets the stage for Formula 1’s continued growth in th', 'pubDate': '2025-10-18T13:05:12Z', 'displayTime': '2025-10-18T13:05:12Z', 'isHosted': True, 'bypassModal': False, 'previewUrl': None, 'thumbnail': {'originalUrl': 'https://media.zenfs.com/en/tipranks_452/f5079a739fb47b983bae87f28f5b97f1', 'originalWidth': 192, 'originalHeight': 192, 'caption': 'https://www.tipranks.com/news/the-fly/apple-announces-five-year-partnership-as-u-s-broadcast-partner-for-formula-1-thefly', 'resolutions': [{'url': 'https://s.yimg.com/uu/api/res/1.2/x4ZeBHA__NPbEft9Xm1vFQ--~B/aD0xOTI7dz0xOTI7YXBwaWQ9eXRhY2h5b24-/https://media.zenfs.com/en/tipranks_452/f5079a739fb47b983bae87f28f5b97f1', 'width': 192, 'height': 192, 'tag': 'original'}, {'url': 'https://s.yimg.com/uu/api/res/1.2/WjB8sHZAUhM8BQrTMN5piw--~B/Zmk9c3RyaW07aD0xMjg7dz0xNzA7YXBwaWQ9eXRhY2h5b24-/https://media.zenfs.com/en/tipranks_452/f5079a739fb47b983bae87f28f5b97f1', 'width': 170, 'height': 128, 'tag': '170x128'}]}, 'provider': {'displayName': 'TipRanks', 'url': 'https://www.tipranks.com/'}, 'canonicalUrl': {'url': 'https://sports.yahoo.com/article/apple-announces-five-partnership-u-130512518.html', 'site': 'sports', 'region': 'US', 'lang': 'en-US'}, 'clickThroughUrl': {'url': 'https://sports.yahoo.com/article/apple-announces-five-partnership-u-130512518.html', 'site': 'finance', 'region': 'US', 'lang': 'en-US'}, 'metadata': {'editorsPick': False}, 'finance': {'premiumFinance': {'isPremiumNews': False, 'isPremiumFreeNews': False}}, 'storyline': None}\n",
      "Apple announces five-year partnership as U.S. broadcast partner for Formula 1\n",
      "key: id\n",
      "aa6d4ee1-1bb9-3678-93a2-ff1d2e359744\n",
      "key: contentType\n",
      "STORY\n",
      "key: title\n",
      "Apple announces five-year partnership as U.S. broadcast partner for Formula 1\n",
      "key: description\n",
      "\n",
      "key: summary\n",
      "Apple (AAPL) and Formula 1 announced a five-year partnership that will bring all F1 races exclusively to Apple TV in the United States beginning next year. “The partnership builds on Apple’s deepening relationship with Formula 1 following the global success of Apple Original Films’ adrenaline-fueled blockbuster F1 The Movie, the highest-grossing sports movie of all time. United by a commitment to innovation and fan experience, the partnership sets the stage for Formula 1’s continued growth in th\n",
      "key: pubDate\n",
      "2025-10-18T13:05:12Z\n",
      "key: displayTime\n",
      "2025-10-18T13:05:12Z\n",
      "key: isHosted\n",
      "True\n",
      "key: bypassModal\n",
      "False\n",
      "key: previewUrl\n",
      "None\n",
      "key: thumbnail\n",
      "{'originalUrl': 'https://media.zenfs.com/en/tipranks_452/f5079a739fb47b983bae87f28f5b97f1', 'originalWidth': 192, 'originalHeight': 192, 'caption': 'https://www.tipranks.com/news/the-fly/apple-announces-five-year-partnership-as-u-s-broadcast-partner-for-formula-1-thefly', 'resolutions': [{'url': 'https://s.yimg.com/uu/api/res/1.2/x4ZeBHA__NPbEft9Xm1vFQ--~B/aD0xOTI7dz0xOTI7YXBwaWQ9eXRhY2h5b24-/https://media.zenfs.com/en/tipranks_452/f5079a739fb47b983bae87f28f5b97f1', 'width': 192, 'height': 192, 'tag': 'original'}, {'url': 'https://s.yimg.com/uu/api/res/1.2/WjB8sHZAUhM8BQrTMN5piw--~B/Zmk9c3RyaW07aD0xMjg7dz0xNzA7YXBwaWQ9eXRhY2h5b24-/https://media.zenfs.com/en/tipranks_452/f5079a739fb47b983bae87f28f5b97f1', 'width': 170, 'height': 128, 'tag': '170x128'}]}\n",
      "key: provider\n",
      "{'displayName': 'TipRanks', 'url': 'https://www.tipranks.com/'}\n",
      "key: canonicalUrl\n",
      "{'url': 'https://sports.yahoo.com/article/apple-announces-five-partnership-u-130512518.html', 'site': 'sports', 'region': 'US', 'lang': 'en-US'}\n",
      "key: clickThroughUrl\n",
      "{'url': 'https://sports.yahoo.com/article/apple-announces-five-partnership-u-130512518.html', 'site': 'finance', 'region': 'US', 'lang': 'en-US'}\n",
      "key: metadata\n",
      "{'editorsPick': False}\n",
      "key: finance\n",
      "{'premiumFinance': {'isPremiumNews': False, 'isPremiumFreeNews': False}}\n",
      "key: storyline\n",
      "None\n",
      "{'id': 'd711cece-22bf-3877-9974-6b4daca9e942', 'content': {'id': 'd711cece-22bf-3877-9974-6b4daca9e942', 'contentType': 'STORY', 'title': '‘Tech Rally into Year-End’: Daniel Ives Says Momentum Is Building for 3 Tech Stock Giants — Including TSLA', 'description': '', 'summary': 'With the end of the year in sight, and tech stocks having driven the markets sharply higher this year, talk of a potential bubble on Wall Street is growing, à la 1999/2000. The AI boom has powered substantial gains across the semiconductor and software sectors, sending valuations in some high-growth names soaring to more than 50 times forward earnings. The top ten U.S. companies now account for nearly 40% of the S&P 500’s total market cap – levels that rival those seen at the height of the dot-c', 'pubDate': '2025-10-18T10:01:23Z', 'displayTime': '2025-10-18T10:01:23Z', 'isHosted': True, 'bypassModal': False, 'previewUrl': None, 'thumbnail': {'originalUrl': 'https://media.zenfs.com/en/tipranks_452/733ee9d91c65e971e69cf0ab760f2a30', 'originalWidth': 1024, 'originalHeight': 556, 'caption': '', 'resolutions': [{'url': 'https://s.yimg.com/uu/api/res/1.2/Ue..JNNkPl_moi0cbp6OFg--~B/aD01NTY7dz0xMDI0O2FwcGlkPXl0YWNoeW9u/https://media.zenfs.com/en/tipranks_452/733ee9d91c65e971e69cf0ab760f2a30', 'width': 1024, 'height': 556, 'tag': 'original'}, {'url': 'https://s.yimg.com/uu/api/res/1.2/C7L3q1kTo353D.sMkMpgfg--~B/Zmk9c3RyaW07aD0xMjg7dz0xNzA7YXBwaWQ9eXRhY2h5b24-/https://media.zenfs.com/en/tipranks_452/733ee9d91c65e971e69cf0ab760f2a30', 'width': 170, 'height': 128, 'tag': '170x128'}]}, 'provider': {'displayName': 'TipRanks', 'url': 'https://www.tipranks.com/'}, 'canonicalUrl': {'url': 'https://finance.yahoo.com/news/tech-rally-end-daniel-ives-100123948.html', 'site': 'finance', 'region': 'US', 'lang': 'en-US'}, 'clickThroughUrl': {'url': 'https://finance.yahoo.com/news/tech-rally-end-daniel-ives-100123948.html', 'site': 'finance', 'region': 'US', 'lang': 'en-US'}, 'metadata': {'editorsPick': False}, 'finance': {'premiumFinance': {'isPremiumNews': False, 'isPremiumFreeNews': False}}, 'storyline': None}}\n",
      "{'id': 'd711cece-22bf-3877-9974-6b4daca9e942', 'contentType': 'STORY', 'title': '‘Tech Rally into Year-End’: Daniel Ives Says Momentum Is Building for 3 Tech Stock Giants — Including TSLA', 'description': '', 'summary': 'With the end of the year in sight, and tech stocks having driven the markets sharply higher this year, talk of a potential bubble on Wall Street is growing, à la 1999/2000. The AI boom has powered substantial gains across the semiconductor and software sectors, sending valuations in some high-growth names soaring to more than 50 times forward earnings. The top ten U.S. companies now account for nearly 40% of the S&P 500’s total market cap – levels that rival those seen at the height of the dot-c', 'pubDate': '2025-10-18T10:01:23Z', 'displayTime': '2025-10-18T10:01:23Z', 'isHosted': True, 'bypassModal': False, 'previewUrl': None, 'thumbnail': {'originalUrl': 'https://media.zenfs.com/en/tipranks_452/733ee9d91c65e971e69cf0ab760f2a30', 'originalWidth': 1024, 'originalHeight': 556, 'caption': '', 'resolutions': [{'url': 'https://s.yimg.com/uu/api/res/1.2/Ue..JNNkPl_moi0cbp6OFg--~B/aD01NTY7dz0xMDI0O2FwcGlkPXl0YWNoeW9u/https://media.zenfs.com/en/tipranks_452/733ee9d91c65e971e69cf0ab760f2a30', 'width': 1024, 'height': 556, 'tag': 'original'}, {'url': 'https://s.yimg.com/uu/api/res/1.2/C7L3q1kTo353D.sMkMpgfg--~B/Zmk9c3RyaW07aD0xMjg7dz0xNzA7YXBwaWQ9eXRhY2h5b24-/https://media.zenfs.com/en/tipranks_452/733ee9d91c65e971e69cf0ab760f2a30', 'width': 170, 'height': 128, 'tag': '170x128'}]}, 'provider': {'displayName': 'TipRanks', 'url': 'https://www.tipranks.com/'}, 'canonicalUrl': {'url': 'https://finance.yahoo.com/news/tech-rally-end-daniel-ives-100123948.html', 'site': 'finance', 'region': 'US', 'lang': 'en-US'}, 'clickThroughUrl': {'url': 'https://finance.yahoo.com/news/tech-rally-end-daniel-ives-100123948.html', 'site': 'finance', 'region': 'US', 'lang': 'en-US'}, 'metadata': {'editorsPick': False}, 'finance': {'premiumFinance': {'isPremiumNews': False, 'isPremiumFreeNews': False}}, 'storyline': None}\n",
      "‘Tech Rally into Year-End’: Daniel Ives Says Momentum Is Building for 3 Tech Stock Giants — Including TSLA\n",
      "key: id\n",
      "d711cece-22bf-3877-9974-6b4daca9e942\n",
      "key: contentType\n",
      "STORY\n",
      "key: title\n",
      "‘Tech Rally into Year-End’: Daniel Ives Says Momentum Is Building for 3 Tech Stock Giants — Including TSLA\n",
      "key: description\n",
      "\n",
      "key: summary\n",
      "With the end of the year in sight, and tech stocks having driven the markets sharply higher this year, talk of a potential bubble on Wall Street is growing, à la 1999/2000. The AI boom has powered substantial gains across the semiconductor and software sectors, sending valuations in some high-growth names soaring to more than 50 times forward earnings. The top ten U.S. companies now account for nearly 40% of the S&P 500’s total market cap – levels that rival those seen at the height of the dot-c\n",
      "key: pubDate\n",
      "2025-10-18T10:01:23Z\n",
      "key: displayTime\n",
      "2025-10-18T10:01:23Z\n",
      "key: isHosted\n",
      "True\n",
      "key: bypassModal\n",
      "False\n",
      "key: previewUrl\n",
      "None\n",
      "key: thumbnail\n",
      "{'originalUrl': 'https://media.zenfs.com/en/tipranks_452/733ee9d91c65e971e69cf0ab760f2a30', 'originalWidth': 1024, 'originalHeight': 556, 'caption': '', 'resolutions': [{'url': 'https://s.yimg.com/uu/api/res/1.2/Ue..JNNkPl_moi0cbp6OFg--~B/aD01NTY7dz0xMDI0O2FwcGlkPXl0YWNoeW9u/https://media.zenfs.com/en/tipranks_452/733ee9d91c65e971e69cf0ab760f2a30', 'width': 1024, 'height': 556, 'tag': 'original'}, {'url': 'https://s.yimg.com/uu/api/res/1.2/C7L3q1kTo353D.sMkMpgfg--~B/Zmk9c3RyaW07aD0xMjg7dz0xNzA7YXBwaWQ9eXRhY2h5b24-/https://media.zenfs.com/en/tipranks_452/733ee9d91c65e971e69cf0ab760f2a30', 'width': 170, 'height': 128, 'tag': '170x128'}]}\n",
      "key: provider\n",
      "{'displayName': 'TipRanks', 'url': 'https://www.tipranks.com/'}\n",
      "key: canonicalUrl\n",
      "{'url': 'https://finance.yahoo.com/news/tech-rally-end-daniel-ives-100123948.html', 'site': 'finance', 'region': 'US', 'lang': 'en-US'}\n",
      "key: clickThroughUrl\n",
      "{'url': 'https://finance.yahoo.com/news/tech-rally-end-daniel-ives-100123948.html', 'site': 'finance', 'region': 'US', 'lang': 'en-US'}\n",
      "key: metadata\n",
      "{'editorsPick': False}\n",
      "key: finance\n",
      "{'premiumFinance': {'isPremiumNews': False, 'isPremiumFreeNews': False}}\n",
      "key: storyline\n",
      "None\n"
     ]
    }
   ],
   "source": [
    "ticker = 'AAPL'\n",
    "ticker = yf.Ticker(ticker)\n",
    "news = ticker.news\n",
    "print(\"\\nRecent News:\")\n",
    "for n in news[:2]:\n",
    "    print(n)\n",
    "    print(n['content'])\n",
    "    print(n['content']['title'])\n",
    "    n_content = n['content']\n",
    "    for key,value in n_content.items():\n",
    "        print(f\"key: {key}\")\n",
    "        print(f\"{value}\")"
   ]
  },
  {
   "cell_type": "code",
   "execution_count": null,
   "id": "98f6fb86",
   "metadata": {},
   "outputs": [],
   "source": [
    "# extracting the website content\n",
    "\n",
    "from bs4 import BeautifulSoup\n",
    "import requests\n",
    "\n",
    "\n",
    "# Standard headers to fetch a website\n",
    "headers = {\n",
    "    \"User-Agent\": \"Mozilla/5.0 (Windows NT 10.0; Win64; x64) AppleWebKit/537.36 (KHTML, like Gecko) Chrome/117.0.0.0 Safari/537.36\"\n",
    "}\n",
    "\n",
    "\n",
    "def fetch_website_contents(url):\n",
    "    \"\"\"\n",
    "    Return the title and contents of the website at the given url\n",
    "    \"\"\"\n",
    "    response = requests.get(url, headers=headers)\n",
    "    soup = BeautifulSoup(response.content, \"html.parser\")\n",
    "    title = soup.title.string if soup.title else \"No title found\"\n",
    "    if soup.body:\n",
    "        for irrelevant in soup.body([\"script\", \"style\", \"img\", \"input\"]):\n",
    "            irrelevant.decompose()\n",
    "        text = soup.body.get_text(separator=\"\\n\", strip=True)\n",
    "    else:\n",
    "        text = \"\"\n",
    "    return (title + \"\\n\\n\" + text)[:4_000]"
   ]
  },
  {
   "cell_type": "code",
   "execution_count": null,
   "id": "cc5c19bd",
   "metadata": {},
   "outputs": [
    {
     "name": "stdout",
     "output_type": "stream",
     "text": [
      "\n",
      "Recent News:\n",
      "Apple announces five-year partnership as U.S. broadcast partner for Formula 1\n",
      "https://sports.yahoo.com/article/apple-announces-five-partnership-u-130512518.html\n"
     ]
    }
   ],
   "source": [
    "ticker = 'AAPL'\n",
    "ticker = yf.Ticker(ticker)\n",
    "news = ticker.news\n",
    "print(\"\\nRecent News:\")\n",
    "for n in news[:1]:\n",
    "    print(n['content']['title'])\n",
    "    n_content = n['content']\n",
    "    url = n_content['canonicalUrl']['url']\n",
    "    print(url)\n"
   ]
  },
  {
   "cell_type": "code",
   "execution_count": 20,
   "id": "2eccedf5",
   "metadata": {},
   "outputs": [
    {
     "data": {
      "text/plain": [
       "\"Apple announces five-year partnership as U.S. broadcast partner for Formula 1 - Yahoo Sports\\n\\nSearch query\\nSearch\\nNews\\nFinance\\nSports\\nMore\\n-1\\nManage your account\\nHelp\\nAdd or switch accounts\\nSign out\\nNFL\\nNCAAF\\nFantasy\\nMLB\\nNBA\\nNHL\\nWNBA\\nGolf\\nBetting\\nRacing\\nTennis\\nNCAAB\\nWatch\\nNCAAW\\nDaily Draw\\nSoccer\\nCombat\\nMMA\\nBoxing\\nWrestling\\nBoardroom\\nCollectibles\\nWomen's Sports\\nCollege & High School\\nFantasy Football Draft Kit\\nCollege Sports\\nHorse Racing\\nUFL\\nCycling\\nOlympics\\nCricket\\nWhat & How To Watch\\nNewsletters\\nGameChannel\\nWatch\\nRSS\\nJobs\\nHelp\\nMore News\\nBoardroom\\nNetwork with Rich Kleiman\\nEpisode 7: CC Sabathia\\nEpisode 6: Donovan Mitchell\\nEpisode 5: Karl-Anthony Towns\\nEpisode 4: Mark Cuban\\nCover Story: Issa Rae\\nCover Story: Aryna Sabalenka\\nSee All Boardroom\\nExplore Boardroom, where Yahoo and Boardroom Sports cover the business and culture behind the biggest sports stories.\\nCombat\\nMMA\\nBoxing\\nWrestling\\nThe Ariel Helwani Show\\nThe Boys in the Back\\nThe Craic with Petesy Carroll\\nUncrowned is a new destination for all things MMA, boxing, wrestling, and more, featuring Ariel Helwani.\\nSoccer\\nNews\\nScores/Schedule\\nPremier League\\nWorld Cup\\nMLS\\nNWSL\\nEuro 2025\\nClub World Cup\\nCONCACAF Gold Cup\\nChampions League\\nLiga MX Apertura\\nLiga MX Clausura\\nBundesliga\\nSerie A\\nLALIGA\\nLigue 1\\nCONCACAF League\\nThe Cooligans\\nYahoo Soccer is powered by OneFootball, the ultimate destination for news, live matches, scores, highlights, and more.\\nTop Leagues\\nPremier League\\nMLS\\nChampions League\\nBundesliga\\nLALIGA\\nSerie A\\nTop Clubs\\nArsenal\\nBarcelona\\nChelsea\\nFC Bayern München\\nLiverpool\\nManchester City\\nManchester United\\nParis Saint Germain\\nReal Madrid\\nTottenham Hotspur\\nFantasy\\nWatch\\nNetwork\\nAdvertisement\\nAdvertisement\\nAdvertisement\\nAdvertisement\\nTRENDING\\nDodgers back in World Series\\nMariners take ALCS lead\\nLouisville upsets No. 2 Miami\\nJoel Embiid preseason debut\\nCFB Week 8 viewer's guide\\nApple announces five-year partnership as U.S. broadcast partner for Formula 1\\nStory by\\nTipRanks\\nSat, October 18, 2025 at 1:05 PM UTC\\n·\\n1 min read\\nhttps://www.tipranks.com/news/the-fly/apple-announces-five-year-partnership-as-u-s-broadcast-partner-for-formula-1-thefly\\nApple (\\nAAPL\\n) and Formula 1 announced a five-year partnership that will bring all F1 races exclusively to Apple TV in the United States beginning next year. “The partnership builds on Apple’s deepening relationship with Formula 1 following the global success of Apple Original Films’ adrenaline-fueled blockbuster F1 The Movie, the highest-grossing sports movie of all time. United by a commitment to innovation and fan experience, the partnership sets the stage for Formula 1’s continued growth in the U.S. Apple TV will deliver comprehensive coverage of Formula 1, with all practice, qualifying, Sprint sessions, and Grands Prix available to Apple TV subscribers. Select races and all practice sessions will also be available for free in the Apple TV app throughout the course of the season. In addition to broadcasting Formula 1 on Apple TV, Apple will amplify the sport across Apple News, Apple Maps, Apple Music, and Apple Fitness+. Apple Sports – the free app for iPhone – will feature live updates for every qualifying, Sprint, and race for each Grand Prix across the season, with real-time leaderboards, season driver and constructor standings, Live Activities to follow on the Lock Screen, and a designated widget for the iPhone Home Screen,” the company stated.\\nAdvertisement\\nAdvertisement\\nAdvertisement\\nElevate Your Investing Strategy:\\nTake advantage of\\nTipRanks Premium at 50% off!\\nUnlock powerful investing tools, advanced data, and expert analyst insights to help you invest with confidence.\\nPublished first on\\nTheFly\\n– the ultimate source for real-time, market-moving breaking financial news.\\nTry Now>>\\nSee Insiders’ Hot Stocks on TipRanks >>\\nRead More on AAPL:\\nDisclaimer & Disclosure\\nReport an Issue\\nVTI ETF Daily Update, 10/17/2025\\nApple pledges investments in China, U.S., NY Times reports\\n‘Tech Rally into Year-End’: Daniel Ives Says Momentum Is Buil\""
      ]
     },
     "execution_count": 20,
     "metadata": {},
     "output_type": "execute_result"
    }
   ],
   "source": [
    "fetch_website_contents(url)"
   ]
  },
  {
   "cell_type": "code",
   "execution_count": 21,
   "id": "27eb3e6a",
   "metadata": {},
   "outputs": [],
   "source": [
    "import os\n",
    "from dotenv import load_dotenv\n",
    "from IPython.display import Markdown, display\n",
    "from openai import OpenAI"
   ]
  },
  {
   "cell_type": "code",
   "execution_count": null,
   "id": "7bced69c",
   "metadata": {},
   "outputs": [
    {
     "data": {
      "text/plain": [
       "True"
      ]
     },
     "execution_count": 22,
     "metadata": {},
     "output_type": "execute_result"
    }
   ],
   "source": [
    "# Next is to load the API keys into environment variables\n",
    "# it ensures that what's in the file with our API keys takes priority\n",
    "\n",
    "load_dotenv(override=True)"
   ]
  },
  {
   "cell_type": "code",
   "execution_count": 26,
   "id": "9dee6fa3",
   "metadata": {},
   "outputs": [],
   "source": [
    "system_prompt = \"\"\"\n",
    "You are a helpful assistant that analyzes the contents of a website,\n",
    "and provides a short, snarky, humorous summary, ignoring text that might be navigation related.\n",
    "Respond in markdown. Do not wrap the markdown in a code block - respond just with the markdown.\n",
    "\"\"\"\n",
    "\n",
    "user_prompt_prefix = \"\"\"\n",
    "Here are the contents of a website.\n",
    "Provide a short summary of this website.\n",
    "If it includes news or announcements, then summarize these too.\n",
    "\n",
    "Title of the article:\n",
    "\n",
    "\n",
    "\"\"\""
   ]
  },
  {
   "cell_type": "code",
   "execution_count": 27,
   "metadata": {},
   "outputs": [],
   "source": [
    "def messages_create(website, title):\n",
    "    return [\n",
    "        {\"role\": \"system\", \"content\": system_prompt},\n",
    "        {\"role\": \"user\", \"content\": user_prompt_prefix + title + website}\n",
    "    ]"
   ]
  },
  {
   "cell_type": "code",
   "execution_count": 28,
   "id": "cd464468",
   "metadata": {},
   "outputs": [],
   "source": [
    "def summarize(url, title):\n",
    "    website = fetch_website_contents(url)\n",
    "    response = openai.chat.completions.create(\n",
    "        model = \"gpt-4.1-mini\",\n",
    "        messages = messages_create(website, title)\n",
    "    )\n",
    "    return response.choices[0].message.content"
   ]
  },
  {
   "cell_type": "code",
   "execution_count": 29,
   "id": "26e11a24",
   "metadata": {},
   "outputs": [],
   "source": [
    "def display_summary(url, title):\n",
    "    summary = summarize(url, title)\n",
    "    display(Markdown(summary))"
   ]
  },
  {
   "cell_type": "code",
   "execution_count": null,
   "id": "330bca5b",
   "metadata": {},
   "outputs": [
    {
     "data": {
      "text/markdown": [
       "Apple just revved up the streaming game by snagging exclusive U.S. broadcast rights for Formula 1 for the next five years—starting next season, all F1 races will zoom only on Apple TV. This partnership follows the smashing success of \"F1 The Movie,\" the highest-grossing sports flick ever. Expect full coverage of practices, qualifiers, sprints, and grands prix, with some content even free on the Apple TV app. Plus, Apple’s going all-in by boosting F1 content across Apple News, Maps, Music, Fitness+, and their Sports app, turning your iPhone into the ultimate race pit. So if you thought Apple was just about phones and fruit, think again—they’re now your go-to for speed and drama on the track! 🏎️🍏"
      ],
      "text/plain": [
       "<IPython.core.display.Markdown object>"
      ]
     },
     "metadata": {},
     "output_type": "display_data"
    }
   ],
   "source": [
    "openai = OpenAI()\n",
    "\n",
    "tickers = [\"AAPL\"]\n",
    "for ticker in tickers:\n",
    "    ticker = yf.Ticker(ticker)\n",
    "    news = ticker.news\n",
    "    for n in news[:1]:\n",
    "        n_content = n['content']\n",
    "        title = n['content']['title']\n",
    "        url = n_content['canonicalUrl']['url']\n",
    "        display_summary(url, title)"
   ]
  },
  {
   "cell_type": "code",
   "execution_count": null,
   "id": "cc7c3278",
   "metadata": {},
   "outputs": [],
   "source": []
  }
 ],
 "metadata": {
  "kernelspec": {
   "display_name": ".venv",
   "language": "python",
   "name": "python3"
  },
  "language_info": {
   "codemirror_mode": {
    "name": "ipython",
    "version": 3
   },
   "file_extension": ".py",
   "mimetype": "text/x-python",
   "name": "python",
   "nbconvert_exporter": "python",
   "pygments_lexer": "ipython3",
   "version": "3.12.11"
  }
 },
 "nbformat": 4,
 "nbformat_minor": 5
}
