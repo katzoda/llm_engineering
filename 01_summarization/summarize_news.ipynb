{
 "cells": [
  {
   "cell_type": "markdown",
   "id": "9a897f77",
   "metadata": {},
   "source": [
    "## Summarize the news\n",
    "\n",
    "This project or exercise is about summarization using a frontier LLM model from OPenAI, specifically gpt-4.1-mini. I will get the latest news about a company using yfinance API. Inside returned output in the form of a dictionary or JSON structured data I can find the URL to a website with an article or articles about a company. Then I can scrape the web and feed the information into an LLM and ask it to summarize the content.\n",
    "\n",
    "The URL can be extracted from a news object of the yfinance ticker:\n",
    "\n",
    "ticker = yfinance.Ticker('AAPL')\n",
    "\n",
    "news = ticker.news\n",
    "\n",
    "url = news['content']['canonicalUrl']['url']"
   ]
  },
  {
   "cell_type": "code",
   "execution_count": 2,
   "id": "387e5237",
   "metadata": {},
   "outputs": [],
   "source": [
    "import yfinance as yf"
   ]
  },
  {
   "cell_type": "code",
   "execution_count": 6,
   "id": "98f6fb86",
   "metadata": {},
   "outputs": [],
   "source": [
    "# extracting the website content\n",
    "\n",
    "from bs4 import BeautifulSoup\n",
    "import requests\n",
    "\n",
    "\n",
    "# Standard headers to fetch a website\n",
    "headers = {\n",
    "    \"User-Agent\": \"Mozilla/5.0 (Windows NT 10.0; Win64; x64) AppleWebKit/537.36 (KHTML, like Gecko) Chrome/117.0.0.0 Safari/537.36\"\n",
    "}\n",
    "\n",
    "\n",
    "def fetch_website_contents(url):\n",
    "    \"\"\"\n",
    "    Return the title and contents of the website at the given url\n",
    "    \"\"\"\n",
    "    response = requests.get(url, headers=headers)\n",
    "    soup = BeautifulSoup(response.content, \"html.parser\")\n",
    "    title = soup.title.string if soup.title else \"No title found\"\n",
    "    if soup.body:\n",
    "        for irrelevant in soup.body([\"script\", \"style\", \"img\", \"input\"]):\n",
    "            irrelevant.decompose()\n",
    "        text = soup.body.get_text(separator=\"\\n\", strip=True)\n",
    "    else:\n",
    "        text = \"\"\n",
    "    return (title + \"\\n\\n\" + text)[:4_000]"
   ]
  },
  {
   "cell_type": "code",
   "execution_count": null,
   "id": "cc5c19bd",
   "metadata": {},
   "outputs": [
    {
     "name": "stdout",
     "output_type": "stream",
     "text": [
      "\n",
      "Recent News:\n",
      "Apple announces five-year partnership as U.S. broadcast partner for Formula 1\n",
      "https://sports.yahoo.com/article/apple-announces-five-partnership-u-130512518.html\n"
     ]
    }
   ],
   "source": [
    "ticker = 'AAPL'\n",
    "ticker = yf.Ticker(ticker)\n",
    "news = ticker.news\n",
    "print(\"\\nRecent News:\")\n",
    "for n in news[:1]:\n",
    "    print(n['content']['title'])\n",
    "    n_content = n['content']\n",
    "    url = n_content['canonicalUrl']['url']\n",
    "    print(url)\n"
   ]
  },
  {
   "cell_type": "code",
   "execution_count": 20,
   "id": "2eccedf5",
   "metadata": {},
   "outputs": [
    {
     "data": {
      "text/plain": [
       "\"Apple announces five-year partnership as U.S. broadcast partner for Formula 1 - Yahoo Sports\\n\\nSearch query\\nSearch\\nNews\\nFinance\\nSports\\nMore\\n-1\\nManage your account\\nHelp\\nAdd or switch accounts\\nSign out\\nNFL\\nNCAAF\\nFantasy\\nMLB\\nNBA\\nNHL\\nWNBA\\nGolf\\nBetting\\nRacing\\nTennis\\nNCAAB\\nWatch\\nNCAAW\\nDaily Draw\\nSoccer\\nCombat\\nMMA\\nBoxing\\nWrestling\\nBoardroom\\nCollectibles\\nWomen's Sports\\nCollege & High School\\nFantasy Football Draft Kit\\nCollege Sports\\nHorse Racing\\nUFL\\nCycling\\nOlympics\\nCricket\\nWhat & How To Watch\\nNewsletters\\nGameChannel\\nWatch\\nRSS\\nJobs\\nHelp\\nMore News\\nBoardroom\\nNetwork with Rich Kleiman\\nEpisode 7: CC Sabathia\\nEpisode 6: Donovan Mitchell\\nEpisode 5: Karl-Anthony Towns\\nEpisode 4: Mark Cuban\\nCover Story: Issa Rae\\nCover Story: Aryna Sabalenka\\nSee All Boardroom\\nExplore Boardroom, where Yahoo and Boardroom Sports cover the business and culture behind the biggest sports stories.\\nCombat\\nMMA\\nBoxing\\nWrestling\\nThe Ariel Helwani Show\\nThe Boys in the Back\\nThe Craic with Petesy Carroll\\nUncrowned is a new destination for all things MMA, boxing, wrestling, and more, featuring Ariel Helwani.\\nSoccer\\nNews\\nScores/Schedule\\nPremier League\\nWorld Cup\\nMLS\\nNWSL\\nEuro 2025\\nClub World Cup\\nCONCACAF Gold Cup\\nChampions League\\nLiga MX Apertura\\nLiga MX Clausura\\nBundesliga\\nSerie A\\nLALIGA\\nLigue 1\\nCONCACAF League\\nThe Cooligans\\nYahoo Soccer is powered by OneFootball, the ultimate destination for news, live matches, scores, highlights, and more.\\nTop Leagues\\nPremier League\\nMLS\\nChampions League\\nBundesliga\\nLALIGA\\nSerie A\\nTop Clubs\\nArsenal\\nBarcelona\\nChelsea\\nFC Bayern München\\nLiverpool\\nManchester City\\nManchester United\\nParis Saint Germain\\nReal Madrid\\nTottenham Hotspur\\nFantasy\\nWatch\\nNetwork\\nAdvertisement\\nAdvertisement\\nAdvertisement\\nAdvertisement\\nTRENDING\\nDodgers back in World Series\\nMariners take ALCS lead\\nLouisville upsets No. 2 Miami\\nJoel Embiid preseason debut\\nCFB Week 8 viewer's guide\\nApple announces five-year partnership as U.S. broadcast partner for Formula 1\\nStory by\\nTipRanks\\nSat, October 18, 2025 at 1:05 PM UTC\\n·\\n1 min read\\nhttps://www.tipranks.com/news/the-fly/apple-announces-five-year-partnership-as-u-s-broadcast-partner-for-formula-1-thefly\\nApple (\\nAAPL\\n) and Formula 1 announced a five-year partnership that will bring all F1 races exclusively to Apple TV in the United States beginning next year. “The partnership builds on Apple’s deepening relationship with Formula 1 following the global success of Apple Original Films’ adrenaline-fueled blockbuster F1 The Movie, the highest-grossing sports movie of all time. United by a commitment to innovation and fan experience, the partnership sets the stage for Formula 1’s continued growth in the U.S. Apple TV will deliver comprehensive coverage of Formula 1, with all practice, qualifying, Sprint sessions, and Grands Prix available to Apple TV subscribers. Select races and all practice sessions will also be available for free in the Apple TV app throughout the course of the season. In addition to broadcasting Formula 1 on Apple TV, Apple will amplify the sport across Apple News, Apple Maps, Apple Music, and Apple Fitness+. Apple Sports – the free app for iPhone – will feature live updates for every qualifying, Sprint, and race for each Grand Prix across the season, with real-time leaderboards, season driver and constructor standings, Live Activities to follow on the Lock Screen, and a designated widget for the iPhone Home Screen,” the company stated.\\nAdvertisement\\nAdvertisement\\nAdvertisement\\nElevate Your Investing Strategy:\\nTake advantage of\\nTipRanks Premium at 50% off!\\nUnlock powerful investing tools, advanced data, and expert analyst insights to help you invest with confidence.\\nPublished first on\\nTheFly\\n– the ultimate source for real-time, market-moving breaking financial news.\\nTry Now>>\\nSee Insiders’ Hot Stocks on TipRanks >>\\nRead More on AAPL:\\nDisclaimer & Disclosure\\nReport an Issue\\nVTI ETF Daily Update, 10/17/2025\\nApple pledges investments in China, U.S., NY Times reports\\n‘Tech Rally into Year-End’: Daniel Ives Says Momentum Is Buil\""
      ]
     },
     "execution_count": 20,
     "metadata": {},
     "output_type": "execute_result"
    }
   ],
   "source": [
    "fetch_website_contents(url)"
   ]
  },
  {
   "cell_type": "code",
   "execution_count": 21,
   "id": "27eb3e6a",
   "metadata": {},
   "outputs": [],
   "source": [
    "import os\n",
    "from dotenv import load_dotenv\n",
    "from IPython.display import Markdown, display\n",
    "from openai import OpenAI"
   ]
  },
  {
   "cell_type": "code",
   "execution_count": null,
   "id": "7bced69c",
   "metadata": {},
   "outputs": [
    {
     "data": {
      "text/plain": [
       "True"
      ]
     },
     "execution_count": 22,
     "metadata": {},
     "output_type": "execute_result"
    }
   ],
   "source": [
    "# Next is to load the API keys into environment variables\n",
    "# it ensures that what's in the file with our API keys takes priority\n",
    "\n",
    "load_dotenv(override=True)"
   ]
  },
  {
   "cell_type": "code",
   "execution_count": 26,
   "id": "9dee6fa3",
   "metadata": {},
   "outputs": [],
   "source": [
    "system_prompt = \"\"\"\n",
    "You are a helpful assistant that analyzes the contents of a website,\n",
    "and provides a short, snarky, humorous summary, ignoring text that might be navigation related.\n",
    "Respond in markdown. Do not wrap the markdown in a code block - respond just with the markdown.\n",
    "\"\"\"\n",
    "\n",
    "user_prompt_prefix = \"\"\"\n",
    "Here are the contents of a website.\n",
    "Provide a short summary of this website.\n",
    "If it includes news or announcements, then summarize these too.\n",
    "\n",
    "Title of the article:\n",
    "\n",
    "\n",
    "\"\"\""
   ]
  },
  {
   "cell_type": "code",
   "execution_count": 27,
   "metadata": {},
   "outputs": [],
   "source": [
    "def messages_create(website, title):\n",
    "    return [\n",
    "        {\"role\": \"system\", \"content\": system_prompt},\n",
    "        {\"role\": \"user\", \"content\": user_prompt_prefix + title + website}\n",
    "    ]"
   ]
  },
  {
   "cell_type": "code",
   "execution_count": 28,
   "id": "cd464468",
   "metadata": {},
   "outputs": [],
   "source": [
    "def summarize(url, title):\n",
    "    website = fetch_website_contents(url)\n",
    "    response = openai.chat.completions.create(\n",
    "        model = \"gpt-4.1-mini\",\n",
    "        messages = messages_create(website, title)\n",
    "    )\n",
    "    return response.choices[0].message.content"
   ]
  },
  {
   "cell_type": "code",
   "execution_count": 29,
   "id": "26e11a24",
   "metadata": {},
   "outputs": [],
   "source": [
    "def display_summary(url, title):\n",
    "    summary = summarize(url, title)\n",
    "    display(Markdown(summary))"
   ]
  },
  {
   "cell_type": "code",
   "execution_count": null,
   "id": "330bca5b",
   "metadata": {},
   "outputs": [
    {
     "data": {
      "text/markdown": [
       "Apple just revved up the streaming game by snagging exclusive U.S. broadcast rights for Formula 1 for the next five years—starting next season, all F1 races will zoom only on Apple TV. This partnership follows the smashing success of \"F1 The Movie,\" the highest-grossing sports flick ever. Expect full coverage of practices, qualifiers, sprints, and grands prix, with some content even free on the Apple TV app. Plus, Apple’s going all-in by boosting F1 content across Apple News, Maps, Music, Fitness+, and their Sports app, turning your iPhone into the ultimate race pit. So if you thought Apple was just about phones and fruit, think again—they’re now your go-to for speed and drama on the track! 🏎️🍏"
      ],
      "text/plain": [
       "<IPython.core.display.Markdown object>"
      ]
     },
     "metadata": {},
     "output_type": "display_data"
    }
   ],
   "source": [
    "openai = OpenAI()\n",
    "\n",
    "tickers = [\"AAPL\"]\n",
    "for ticker in tickers:\n",
    "    ticker = yf.Ticker(ticker)\n",
    "    news = ticker.news\n",
    "    for n in news[:1]:\n",
    "        n_content = n['content']\n",
    "        title = n['content']['title']\n",
    "        url = n_content['canonicalUrl']['url']\n",
    "        display_summary(url, title)"
   ]
  },
  {
   "cell_type": "code",
   "execution_count": null,
   "id": "cc7c3278",
   "metadata": {},
   "outputs": [],
   "source": []
  }
 ],
 "metadata": {
  "kernelspec": {
   "display_name": ".venv",
   "language": "python",
   "name": "python3"
  },
  "language_info": {
   "codemirror_mode": {
    "name": "ipython",
    "version": 3
   },
   "file_extension": ".py",
   "mimetype": "text/x-python",
   "name": "python",
   "nbconvert_exporter": "python",
   "pygments_lexer": "ipython3",
   "version": "3.12.11"
  }
 },
 "nbformat": 4,
 "nbformat_minor": 5
}
